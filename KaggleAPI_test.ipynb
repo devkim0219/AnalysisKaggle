{
 "cells": [
  {
   "cell_type": "code",
   "execution_count": 1,
   "metadata": {},
   "outputs": [],
   "source": [
    "import kaggle"
   ]
  },
  {
   "cell_type": "code",
   "execution_count": 2,
   "metadata": {},
   "outputs": [
    {
     "name": "stdout",
     "output_type": "stream",
     "text": [
      "Configuration values from C:\\Users\\admin\\.kaggle\n",
      "- username: devkim0219\n",
      "- path: None\n",
      "- proxy: None\n",
      "- competition: None\n"
     ]
    }
   ],
   "source": [
    "!kaggle config view"
   ]
  },
  {
   "cell_type": "code",
   "execution_count": 3,
   "metadata": {},
   "outputs": [
    {
     "name": "stdout",
     "output_type": "stream",
     "text": [
      "ref                                        deadline             category        reward  teamCount  userHasEntered  \n",
      "-----------------------------------------  -------------------  ----------  ----------  ---------  --------------  \n",
      "hhp                                        2013-04-04 07:00:00  Featured      $500,000       1351           False  \n",
      "liverpool-ion-switching                    2020-05-25 23:59:00  Research       $25,000       1171           False  \n",
      "datasciencebowl                            2015-03-16 23:59:00  Featured      $175,000       1049           False  \n",
      "nfl-big-data-bowl-2020                     2020-01-06 23:59:00  Featured       $75,000       2038           False  \n",
      "covid19-global-forecasting-week-1          2020-03-25 23:59:00  Research     Knowledge        320           False  \n",
      "covid19-local-us-ca-forecasting-week-1     2020-03-25 23:59:00  Research     Knowledge        109           False  \n",
      "ultrasound-nerve-segmentation              2016-08-18 23:59:00  Featured      $100,000        923           False  \n",
      "aptos2019-blindness-detection              2019-09-07 23:59:00  Featured       $50,000       2931           False  \n",
      "diabetic-retinopathy-detection             2015-07-27 23:59:00  Featured      $100,000        661           False  \n",
      "msk-redefining-cancer-treatment            2017-10-02 23:59:00  Research       $15,000       1386           False  \n",
      "histopathologic-cancer-detection           2019-03-30 23:59:00  Playground   Knowledge       1157           False  \n",
      "rsna-intracranial-hemorrhage-detection     2019-11-13 23:59:00  Featured       $25,000       1345           False  \n",
      "data-science-bowl-2017                     2017-04-12 23:59:00  Featured    $1,000,000       1972           False  \n",
      "melbourne-university-seizure-prediction    2016-12-01 23:59:00  Research       $20,000        478           False  \n",
      "second-annual-data-science-bowl            2016-03-14 23:59:00  Featured      $200,000        192           False  \n",
      "intel-mobileodt-cervical-cancer-screening  2017-06-21 23:59:00  Featured      $100,000        848           False  \n",
      "mens-machine-learning-competition-2018     2018-04-02 23:59:00  Featured       $50,000        934           False  \n",
      "kobe-bryant-shot-selection                 2016-06-13 23:59:00  Playground   Knowledge       1117            True  \n",
      "mens-machine-learning-competition-2019     2019-04-09 06:00:00  Featured       $25,000        866           False  \n",
      "womens-machine-learning-competition-2019   2019-04-08 05:10:00  Featured       $25,000        500           False  \n"
     ]
    }
   ],
   "source": [
    "!kaggle competitions list -s health"
   ]
  },
  {
   "cell_type": "code",
   "execution_count": 4,
   "metadata": {},
   "outputs": [
    {
     "name": "stdout",
     "output_type": "stream",
     "text": [
      "ref                                                               title                                                size  lastUpdated          downloadCount  voteCount  usabilityRating  \n",
      "----------------------------------------------------------------  --------------------------------------------------  -----  -------------------  -------------  ---------  ---------------  \n",
      "daveianhickey/2000-16-traffic-flow-england-scotland-wales         1.6 million UK traffic accidents                    132MB  2017-09-17 16:55:28          13297        299  0.7941176        \n",
      "fmejia21/demographics-of-academy-awards-oscars-winners            Demographics of Academy Awards (Oscars) Winners      20KB  2020-02-04 17:38:26           2125         99  0.9411765        \n",
      "goldenoakresearch/us-acs-mortgage-equity-loans-rent-statistics    Insightful & Vast USA Statistics                     10MB  2018-05-19 19:35:52           5779        255  0.85294116       \n",
      "marshald/london-boroughs                                          London Borough Demographics                          10KB  2017-06-04 13:45:03            609         19  0.8235294        \n",
      "avenn98/world-of-warcraft-demographics                            World of Warcraft Demographics                        3KB  2017-08-04 19:03:41            444         17  0.8235294        \n",
      "mozillaorg/common-voice                                           Common Voice                                         12GB  2017-12-12 00:14:51           4544        123  0.7647059        \n",
      "rojour/boston-results                                             Finishers Boston Marathon 2015, 2016 & 2017           4MB  2017-04-29 21:57:12           3955         70  0.7352941        \n",
      "electoralcommission/brexit-results                                2016 EU Referendum in the United Kingdom             47KB  2017-01-18 14:45:04           1292         25  0.8235294        \n",
      "collegeboard/ap-scores                                            2016 Advanced Placement Exam Scores                  11KB  2017-02-02 22:30:27           1905         27  0.7352941        \n",
      "theworldbank/world-gender-statistics                              World Gender Statistics                              11MB  2019-11-17 22:25:55           1922         47  0.7647059        \n",
      "lachmann12/world-population-demographics-by-age-2019              World population demographics by age 2019           185KB  2020-03-23 22:39:30             36          7  0.9411765        \n",
      "bhavnachawla/world-demographics                                   World Demographics                                  246KB  2017-12-25 14:00:13            360          4  0.64705884       \n",
      "luckyt/university-of-waterloo-student-demographics                University of Waterloo Student Demographics         579KB  2017-11-28 18:21:42            222         15  0.64705884       \n",
      "kwullum/fatal-police-shootings-in-the-us                          Fatal Police Shootings in the US                      1MB  2017-09-22 19:18:21          12006        147  0.85294116       \n",
      "bmkramer/101-innovations-research-tools-survey                    101 Innovations - Research Tools Survey               5MB  2019-11-17 23:25:07           1257         33  0.7647059        \n",
      "sammy123/lower-back-pain-symptoms-dataset                         Lower Back Pain Symptoms Dataset                     20KB  2016-08-19 09:43:45           6151        183  0.7647059        \n",
      "reubencpereira/spatial-data-repo                                  Spatial Data Repository (satellite data and more)    63MB  2018-05-15 18:46:08            644         29  0.7058824        \n",
      "freecodecamp/2016-new-coder-survey-                               2016 New Coder Survey                                 2MB  2016-06-03 00:27:28           4286         81  0.7058824        \n",
      "new-york-city/ny-school-demographics-and-accountability-snapshot  NY School Demographics and Accountability Snapshot  586KB  2019-12-06 06:51:21            171          1  0.8235294        \n",
      "annavictoria/speed-dating-experiment                              Speed Dating Experiment                             374KB  2016-05-09 15:14:15          36010        591  0.5882353        \n"
     ]
    }
   ],
   "source": [
    "!kaggle datasets list -s demographics"
   ]
  },
  {
   "cell_type": "code",
   "execution_count": 5,
   "metadata": {},
   "outputs": [
    {
     "name": "stdout",
     "output_type": "stream",
     "text": [
      "name                           size  creationDate         \n",
      "----------------------------  -----  -------------------  \n",
      "Neighborhood_time_series.csv  253MB  2018-01-24 23:53:58  \n",
      "cities_crosswalk.csv            1MB  2018-01-24 23:53:58  \n",
      "CountyCrossWalk_Zillow.csv    227KB  2018-01-24 23:53:58  \n",
      "Metro_time_series.csv          54MB  2018-01-24 23:53:58  \n",
      "State_time_series.csv           5MB  2018-01-24 23:53:58  \n",
      "DataDictionary.csv              5KB  2018-01-24 23:53:58  \n",
      "all_available_metrics.json      3KB  2018-01-24 23:53:58  \n",
      "fields_per_level.json          17KB  2018-01-24 23:53:58  \n",
      "City_time_series.csv          658MB  2018-01-24 23:53:58  \n",
      "Zip_time_series.csv           746MB  2018-01-24 23:53:58  \n",
      "County_time_series.csv        108MB  2018-01-24 23:53:58  \n"
     ]
    }
   ],
   "source": [
    "!kaggle datasets files zillow/zecon"
   ]
  },
  {
   "cell_type": "code",
   "execution_count": 6,
   "metadata": {},
   "outputs": [
    {
     "name": "stdout",
     "output_type": "stream",
     "text": [
      "Downloading County_time_series.csv.zip to ./data\n",
      "\n"
     ]
    },
    {
     "name": "stderr",
     "output_type": "stream",
     "text": [
      "\n",
      "  0%|          | 0.00/33.5M [00:00<?, ?B/s]\n",
      "  3%|2         | 1.00M/33.5M [00:00<00:17, 1.94MB/s]\n",
      "  6%|5         | 2.00M/33.5M [00:00<00:14, 2.30MB/s]\n",
      " 12%|#1        | 4.00M/33.5M [00:00<00:09, 3.10MB/s]\n",
      " 18%|#7        | 6.00M/33.5M [00:01<00:07, 4.06MB/s]\n",
      " 24%|##3       | 8.00M/33.5M [00:01<00:05, 4.61MB/s]\n",
      " 30%|##9       | 10.0M/33.5M [00:01<00:04, 5.73MB/s]\n",
      " 39%|###8      | 13.0M/33.5M [00:01<00:03, 6.42MB/s]\n",
      " 42%|####1     | 14.0M/33.5M [00:02<00:03, 6.60MB/s]\n",
      " 48%|####7     | 16.0M/33.5M [00:02<00:03, 6.04MB/s]\n",
      " 72%|#######1  | 24.0M/33.5M [00:02<00:01, 8.23MB/s]\n",
      " 81%|########  | 27.0M/33.5M [00:02<00:00, 9.49MB/s]\n",
      " 87%|########6 | 29.0M/33.5M [00:02<00:00, 10.5MB/s]\n",
      " 93%|#########2| 31.0M/33.5M [00:03<00:00, 9.57MB/s]\n",
      "100%|##########| 33.5M/33.5M [00:03<00:00, 10.6MB/s]\n"
     ]
    }
   ],
   "source": [
    "!kaggle datasets download zillow/zecon -f County_time_series.csv -p ./data/ --unzip"
   ]
  }
 ],
 "metadata": {
  "kernelspec": {
   "display_name": "Python 3",
   "language": "python",
   "name": "python3"
  },
  "language_info": {
   "codemirror_mode": {
    "name": "ipython",
    "version": 3
   },
   "file_extension": ".py",
   "mimetype": "text/x-python",
   "name": "python",
   "nbconvert_exporter": "python",
   "pygments_lexer": "ipython3",
   "version": "3.7.6"
  }
 },
 "nbformat": 4,
 "nbformat_minor": 4
}
